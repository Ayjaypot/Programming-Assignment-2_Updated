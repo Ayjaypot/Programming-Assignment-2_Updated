{
 "cells": [
  {
   "cell_type": "markdown",
   "id": "4a82e622-b03e-4464-868d-13037be659d1",
   "metadata": {},
   "source": [
    "# Programming Assignment # 2: Numerical Python"
   ]
  },
  {
   "cell_type": "markdown",
   "id": "5010c14f-631b-4b80-a016-11dd10cdd1fa",
   "metadata": {},
   "source": [
    "# Importing the numerical python library to make it possible to use array functions"
   ]
  },
  {
   "cell_type": "code",
   "execution_count": 5,
   "id": "cc09834c-b2e5-4fa0-a588-cc05f77bdfc6",
   "metadata": {},
   "outputs": [],
   "source": [
    "# importing the numerical python library\n",
    "import numpy as np"
   ]
  },
  {
   "cell_type": "markdown",
   "id": "8268aa45-44a8-40f5-a901-5928f3d07cbe",
   "metadata": {},
   "source": [
    "# Problem 2.1 Normalization Problem\n",
    " ## This code gets a random 5x5 array and normalizes it using the formula $$ Z = \\frac{x - \\bar{X}}{\\sigma} $$ The normalized array is then saved as a .npy file and is then loaded to check if the array was properly saved."
   ]
  },
  {
   "cell_type": "code",
   "execution_count": 7,
   "id": "d2c01691-5e47-4eff-82b2-deb706e08640",
   "metadata": {},
   "outputs": [
    {
     "name": "stdout",
     "output_type": "stream",
     "text": [
      "Random Array:\n",
      "[[0.57994728 0.76115007 0.00619444 0.61014918 0.5475257 ]\n",
      " [0.33568215 0.9191503  0.85321929 0.54071781 0.223665  ]\n",
      " [0.9402342  0.24856531 0.28392321 0.32310232 0.78733811]\n",
      " [0.28925861 0.53113805 0.90079259 0.46620498 0.03942647]\n",
      " [0.68818477 0.0569138  0.48027142 0.27009897 0.38405147]]\n",
      "Normalized array:\n"
     ]
    },
    {
     "data": {
      "text/plain": [
       "array([[ 0.35603184,  1.01927084, -1.74402007,  0.46657691,  0.23736226],\n",
       "       [-0.53802813,  1.59758378,  1.35626288,  0.21244401, -0.94803365],\n",
       "       [ 1.67475513, -0.85689346, -0.72747637, -0.58407288,  1.11512437],\n",
       "       [-0.70794772,  0.17738014,  1.53039081, -0.06028809, -1.6223841 ],\n",
       "       [ 0.75220302, -1.55837691, -0.00880207, -0.77807591, -0.36098662]])"
      ]
     },
     "execution_count": 7,
     "metadata": {},
     "output_type": "execute_result"
    }
   ],
   "source": [
    "# Problem 1 \n",
    "\n",
    "# initializing a random array as X\n",
    "X = np.random.random((5,5))\n",
    "\n",
    "# Printing the random array\n",
    "print(\"Random Array:\") \n",
    "print(X)\n",
    "\n",
    "# initializing the mean and getting the mean of the X array\n",
    "mean = X.mean()\n",
    "\n",
    "# # initializing the Standard Deviation and getting the STD of the X array\n",
    "std = X.std()\n",
    "\n",
    "# Normalizing the X array by using the formula\n",
    "Z = (X - mean)/std\n",
    "\n",
    "# Saving the normalized Array into X_normalized.npy\n",
    "np.save('X_normalized.npy', Z)\n",
    "\n",
    "# Printing and checking to see if the array is saved properly\n",
    "print(\"Normalized array:\") \n",
    "np.load('X_normalized.npy')"
   ]
  },
  {
   "cell_type": "markdown",
   "id": "b7f22935-fdb1-4e59-a772-b4c39bbea6f2",
   "metadata": {},
   "source": [
    "# Problem 2.2 Divisible by 3 problem\n",
    " ## This code requires us to generate a 10x10 array with the squares of the first 100 positive integers. It then checks which elements of the array are divisible by 3 it is then saved into an .npy file and is loaded to see if the array was properly saved. Sample Output: ([9, 36, 81, 144, 225, ...])\n",
    " "
   ]
  },
  {
   "cell_type": "code",
   "execution_count": 20,
   "id": "438ef261-9bda-4715-97e7-d371ba987b70",
   "metadata": {},
   "outputs": [
    {
     "data": {
      "text/plain": [
       "array([   9,   36,   81,  144,  225,  324,  441,  576,  729,  900, 1089,\n",
       "       1296, 1521, 1764, 2025, 2304, 2601, 2916, 3249, 3600, 3969, 4356,\n",
       "       4761, 5184, 5625, 6084, 6561, 7056, 7569, 8100, 8649, 9216, 9801])"
      ]
     },
     "execution_count": 20,
     "metadata": {},
     "output_type": "execute_result"
    }
   ],
   "source": [
    "# Problem 2\n",
    "\n",
    "# Creating an array of the first 100 positive integers\n",
    "Array_100_integers = np.arange(1,101)\n",
    "\n",
    "# Getting the square of those integers\n",
    "Squared_100_Integers = Array_100_integers**2\n",
    "\n",
    "# Reshaping the array into a 10x10 array\n",
    "New_10x10_Array = Squared_100_Integers.reshape(10,10)\n",
    "\n",
    "# Finding which elements of the array are divisible by 3\n",
    "divisible_by_3 = New_10x10_Array[New_10x10_Array % 3 == 0]\n",
    "\n",
    "# Saving the elements divisible by 3 into div_by_3.npy\n",
    "np.save('div_by_3.npy', divisible_by_3)\n",
    "\n",
    "# Printing and checking to see if the array is saved properly\n",
    "np.load('div_by_3.npy')"
   ]
  },
  {
   "cell_type": "code",
   "execution_count": null,
   "id": "a8861165-5f19-4a71-a578-ccf495864dd5",
   "metadata": {},
   "outputs": [],
   "source": []
  }
 ],
 "metadata": {
  "kernelspec": {
   "display_name": "Python 3 (ipykernel)",
   "language": "python",
   "name": "python3"
  },
  "language_info": {
   "codemirror_mode": {
    "name": "ipython",
    "version": 3
   },
   "file_extension": ".py",
   "mimetype": "text/x-python",
   "name": "python",
   "nbconvert_exporter": "python",
   "pygments_lexer": "ipython3",
   "version": "3.12.4"
  }
 },
 "nbformat": 4,
 "nbformat_minor": 5
}
